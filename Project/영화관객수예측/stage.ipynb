{
 "cells": [
  {
   "cell_type": "code",
   "execution_count": 1,
   "metadata": {},
   "outputs": [],
   "source": [
    "import pandas as pd"
   ]
  },
  {
   "cell_type": "code",
   "execution_count": null,
   "metadata": {},
   "outputs": [],
   "source": [
    "raw_data_train = pd.read_csv('train.csv')\n",
    "raw_data_test = pd.read_csv('test.csv')\n",
    "raw_data_submission = pd.read_csv('sample_submission.csv')"
   ]
  },
  {
   "cell_type": "code",
   "execution_count": null,
   "metadata": {},
   "outputs": [],
   "source": [
    "# 원본 데이터 복사하여 train, test, submission 데이터셋 생성\n",
    "# => 원본 데이터를 보존하면서 독립적으로 작업\n",
    "\n",
    "train = raw_data_train.copy()\n",
    "test = raw_data_test.copy()\n",
    "submission = raw_data_submission.copy()"
   ]
  },
  {
   "cell_type": "code",
   "execution_count": null,
   "metadata": {},
   "outputs": [],
   "source": [
    "train.head()"
   ]
  },
  {
   "cell_type": "code",
   "execution_count": null,
   "metadata": {},
   "outputs": [],
   "source": [
    "# train 데이터의 피처 목록 확인\n",
    "train.columns"
   ]
  },
  {
   "cell_type": "code",
   "execution_count": null,
   "metadata": {},
   "outputs": [],
   "source": [
    "# train 데이터 결측치 확인하기 (isna)\n",
    "train.isna()\n",
    "train.isnull()\n",
    "\n",
    "# 위의 isna, isnull 함수와 반대로 동작\n",
    "train.notnull()"
   ]
  },
  {
   "cell_type": "code",
   "execution_count": null,
   "metadata": {},
   "outputs": [],
   "source": [
    "# isnull().sum() => 결측값 (missing value)의 개수 확인\n",
    "train.isnull().sum()"
   ]
  },
  {
   "cell_type": "code",
   "execution_count": null,
   "metadata": {},
   "outputs": [],
   "source": [
    "# train 데이터의 결측치가 아닌 값의 개수 확인\n",
    "train.notnull().sum()"
   ]
  },
  {
   "attachments": {},
   "cell_type": "markdown",
   "metadata": {},
   "source": [
    "## 결측치가 제거된 train_dropna 데이터셋 생성"
   ]
  },
  {
   "cell_type": "code",
   "execution_count": null,
   "metadata": {},
   "outputs": [],
   "source": [
    "# 결측치가 제거된 train_dropna 데이터셋 생성\n",
    "# => dropna : 결측치가 포함된 행을 삭제\n",
    "# => 결측치가 포함된 행을 삭제하면 데이터셋의 크기가 줄어들기 때문에, 이에 따른 모델의 성능 변화도 고려해야 한다.\n",
    "#    이외에도 다양한 결측치 처리 방법이 존재하므로, 상황에 맞는 적절한 결측치 처리 방법을 선택하는 것이 중요\n",
    "\n",
    "train_dropna = train.dropna()"
   ]
  },
  {
   "cell_type": "code",
   "execution_count": null,
   "metadata": {},
   "outputs": [],
   "source": [
    "# train_dropna 데이터셋의 피처(feature)별 결측치 개수 확인\n",
    "train_dropna.isnull().sum()"
   ]
  },
  {
   "cell_type": "code",
   "execution_count": null,
   "metadata": {},
   "outputs": [],
   "source": [
    "# 데이터셋의 크기 확인\n",
    "train_dropna.shape"
   ]
  },
  {
   "cell_type": "code",
   "execution_count": null,
   "metadata": {},
   "outputs": [],
   "source": [
    "# 결측치를 0으로 채운 train_fill 데이터셋 생성\n",
    "train_fill = train.fillna(0)"
   ]
  },
  {
   "attachments": {},
   "cell_type": "markdown",
   "metadata": {},
   "source": [
    "## 회귀분석을 위한 표현식(Formula) 작성하기\n",
    "- 문자형 변수는 텍스트 형태의 데이터로 구성되어 있어서, 회귀분석에서 바로 사용하기 어렵다.\n",
    "- 문자형 변수를 사용하려면 이를 수치형으로 변환하는 과정이 필요하다.\n",
    "- 하지만, 문자형 변수를 수치형으로 변환하는 방법에 따라 결과가 크게 달라질 수 있기 때문에, 문자형 변수의 변환 작업은 상당히 중요한 과정이다.\n",
    "\n",
    "- 현재는, 문자형 변수를 무시하고 수치형 데이터만 사용하여 회귀분석 모델을 구성할 것"
   ]
  },
  {
   "cell_type": "code",
   "execution_count": null,
   "metadata": {},
   "outputs": [],
   "source": [
    "formula = \"\"\"\n",
    "box_off_num ~ time + dir_prev_bfnum + dir_prev_num + num_staff + num_actor\n",
    "\"\"\""
   ]
  },
  {
   "attachments": {},
   "cell_type": "markdown",
   "metadata": {},
   "source": [
    "## 영화 관객 수 회귀분석 모델 정의 및 학습하기\n",
    "- sm.OLF.from_formula() 메서드를 사용하여 선형 회귀 모델 생성\n",
    "- OLS(Ordinary Least Squares)는 잔차제곱합(RSS: Residual Sum of Squares)을 최소화하는 방식."
   ]
  },
  {
   "cell_type": "code",
   "execution_count": null,
   "metadata": {},
   "outputs": [],
   "source": [
    "import statsmodels.api as sm\n",
    "\n",
    "model = sm.OLS.from_formula(formula, data=train)\n",
    "model = model.fit()"
   ]
  },
  {
   "cell_type": "code",
   "execution_count": null,
   "metadata": {},
   "outputs": [],
   "source": [
    "# 학습 결과를 여러가지 통계 수치를 통해 확인\n",
    "# - R-squared (결정 계수) : 이 수치는 0과 1사이의 값으로, 우리 모델이 얼마나 데이터를 잘 설명하는지 나타낸다.\n",
    "# - coef (계수) : 각 피쳐의 기울기. 이를 통해 피처가 타겟 변수에 얼마나 영향을 주는지 알 수 있다.\n",
    "\n",
    "model.summary()"
   ]
  },
  {
   "attachments": {},
   "cell_type": "markdown",
   "metadata": {},
   "source": [
    "## 영화 관객 수 모델 예측 결과 확인"
   ]
  },
  {
   "cell_type": "code",
   "execution_count": null,
   "metadata": {},
   "outputs": [],
   "source": [
    "predict = model.predict(test)\n",
    "predict.head()"
   ]
  }
 ],
 "metadata": {
  "kernelspec": {
   "display_name": "Python 3",
   "language": "python",
   "name": "python3"
  },
  "language_info": {
   "codemirror_mode": {
    "name": "ipython",
    "version": 3
   },
   "file_extension": ".py",
   "mimetype": "text/x-python",
   "name": "python",
   "nbconvert_exporter": "python",
   "pygments_lexer": "ipython3",
   "version": "3.9.6"
  },
  "orig_nbformat": 4
 },
 "nbformat": 4,
 "nbformat_minor": 2
}
