{
 "cells": [
  {
   "attachments": {},
   "cell_type": "markdown",
   "metadata": {},
   "source": [
    "1. pandas를 이용해 csv 파일 읽어오기\n",
    "2. 데이터프레임 정보 확인하기\n",
    "    - 연, 월, hot_score, cold_score, inflation_rentals 변수가 추가되고, date_time은 제거된 데이터 셋\n",
    "3. Feature Selection\n",
    "    - 독립변수 X와 종속변수(타깃 변수) y를 설정하기 위해, 주어진 데이터프레임(train)에서 'number_of_rentals'와 'inflation_rentals'을 제외한 나머지 열을 독립변수 X에 할당\n",
    "    - 예측할 종속 변수 'inflation_rentals'을 y 변수에 할당\n",
    "4. DecisionTreeRegressor 모델 정의\n",
    "    - 의사 결정나무(Decision Tree) 모델을 사용하여 분석을 진행할 것\n",
    "    - Decision Tree는 의사 결정 규칙을 나무 구조로 나타내어 전체 자료를 몇 개의 소집단으로 분류하거나 예측하는 분석 방법\n",
    "    - 실제값과 모델의 예측값의 차이(오차)가 최소가 되도록 나무의 가지를 나눈다.\n",
    "5. DecisionTreeRegressor 모델 학습 / 예측\n",
    "6. DecisionTreeRegressor 모델 예측값 시각화\n",
    "7. RandomForest 모델 정의\n",
    "8. RandomForest 모델 학습 / 예측\n",
    "9. RandomForestRegressor 모델 예측값 시각화\n",
    "10. RandomForest 하이퍼 파라미터 튜닝\n",
    "11. submission 파일에 예측값 할당\n",
    "12. 데이터프레임(DataFrame)을 CSV파일로 저장하기"
   ]
  }
 ],
 "metadata": {
  "language_info": {
   "name": "python"
  },
  "orig_nbformat": 4
 },
 "nbformat": 4,
 "nbformat_minor": 2
}
