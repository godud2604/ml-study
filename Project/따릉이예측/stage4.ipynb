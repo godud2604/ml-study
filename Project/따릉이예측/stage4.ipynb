{
 "cells": [
  {
   "cell_type": "code",
   "execution_count": null,
   "metadata": {},
   "outputs": [],
   "source": [
    "import pandas as pd\n",
    "\n",
    "train = pd.read_csv('train.csv')\n",
    "test = pd.read_csv('test.csv')\n",
    "submission = pd.read_csv('sample_submission.csv')"
   ]
  },
  {
   "attachments": {},
   "cell_type": "markdown",
   "metadata": {},
   "source": [
    "### 2. EDA (E xploratory Data Analysis) 란\n",
    "- EDA : 탐색적 데이터 분석\n",
    "    - 데이터를 탐색하고 이해하기 위한 과정으로, 데이터 세트의 구조, 패턴, 상관관계, 이상치 등을 파악하는 것을 목표\n",
    "    - 방법 : 요약 통계, 시각화, 상관 분석, 분포 분석, 클러스터링 등"
   ]
  },
  {
   "cell_type": "code",
   "execution_count": null,
   "metadata": {},
   "outputs": [],
   "source": [
    "# 데이터프레임 정보 확인\n",
    "print(train.info())\n",
    "\n",
    "# 데이터프레임 기술 통계량 확인\n",
    "print(train.describe())"
   ]
  },
  {
   "attachments": {},
   "cell_type": "markdown",
   "metadata": {},
   "source": [
    "### 4. 일별 따릉이 대여량(number_of_rentals) 데이터 시각화"
   ]
  },
  {
   "cell_type": "code",
   "execution_count": null,
   "metadata": {},
   "outputs": [],
   "source": [
    "import warnings\n",
    "warnings.simplefilter(action='ignore', category=FutureWarning)\n",
    "\n",
    "import matplotlib.pyplot as plt\n",
    "import matplotlib.font_manager as fm\n",
    "\n",
    "fe = fm.FontEntry(fname = 'NotoSansKR-Regular.otf', name = 'NotoSansKR')\n",
    "fm.fontManager.ttflist.insert(0, fe)\n",
    "plt.rc('font', family='NotoSansKR')"
   ]
  },
  {
   "cell_type": "code",
   "execution_count": null,
   "metadata": {},
   "outputs": [],
   "source": [
    "plt.figure(dpi=150) # 그림 해상도 150\n",
    "x = train['number_of_rentals'].index\n",
    "y = train['number_of_rentals'].values\n",
    "\n",
    "plt.title('따릉이 대여량')\n",
    "plt.xlabel('일별')\n",
    "plt.xticks(rotation=45)\n",
    "plt.ylabel('일별 따릉이 대여량')\n",
    "plt.plot(x, y)\n",
    "plt.show()"
   ]
  },
  {
   "attachments": {},
   "cell_type": "markdown",
   "metadata": {},
   "source": [
    "### 5. 일별 따릉이 대여량(number_of_rentals) 이상치 시각화\n",
    "- 위의 그래프에 일별 따릉이 대여량 값 중 8000을 이상치를 판단하는 기준이라고 가정하고, plt.hlines() 함수를 사용하여 y 값이 8000인 수평선을 그려보자."
   ]
  },
  {
   "cell_type": "code",
   "execution_count": null,
   "metadata": {},
   "outputs": [],
   "source": [
    "plt.figure(dpi=150)\n",
    "x = train['number_of_rentals'].index\n",
    "y = train['number_of_rentals'].values\n",
    "\n",
    "plt.title('따릉이 대여량')\n",
    "plt.xlabel('일별')\n",
    "plt.xticks(rotation=45)\n",
    "plt.ylabel('일별 따릉이 대여량')\n",
    "# xmin=0과 xmax=len(x)는 x축 범위 설정, 즉 x의 처음과 끝을 의미\n",
    "plt.hlines(y=8000, xmin=0, xmax=len(x), color='red', linestyles='dotted')\n",
    "plt.plot(x, y)\n",
    "plt.show()"
   ]
  },
  {
   "attachments": {},
   "cell_type": "markdown",
   "metadata": {},
   "source": [
    "### 6. train 데이터프레임(DataFrame)에서 이상치 값 상위 5행(row) 데이터 추출\n",
    "- 대여량이 8000을 넘지 않는 이상치를 확인"
   ]
  },
  {
   "cell_type": "code",
   "execution_count": null,
   "metadata": {},
   "outputs": [],
   "source": [
    "train[train['number_of_rentals']<=8000].head()"
   ]
  },
  {
   "attachments": {},
   "cell_type": "markdown",
   "metadata": {},
   "source": [
    "### 7. train 데이터프레임(DataFrame)에서 이상치 평균값 추출"
   ]
  },
  {
   "cell_type": "code",
   "execution_count": null,
   "metadata": {},
   "outputs": [],
   "source": [
    "train[train['number_of_rentals']<=8000].mean()"
   ]
  },
  {
   "attachments": {},
   "cell_type": "markdown",
   "metadata": {},
   "source": [
    "### 8.train 데이터프레임(Dataframe)에서 대여량 이상치에 따른 피처(feature)별 시각화\n",
    "- 강수 형태, 강수 확률에서 8000 이상과 이하의 값 사이에 큰 차이가 있다는 것을 확인할 수 있다."
   ]
  },
  {
   "cell_type": "code",
   "execution_count": null,
   "metadata": {},
   "outputs": [],
   "source": [
    "low = train[train['number_of_rentals']<=8000].mean()\n",
    "high = train[train['number_of_rentals']>8000].mean()\n",
    "\n",
    "def compare(idx):\n",
    "    x = ['8000<= '+low.index[idx], '8000> '+low.index[idx]]\n",
    "    y = [low.values[idx], high.values[idx]]\n",
    "\n",
    "    plt.figure(figsize=(8,5))\n",
    "    plt.title(low.index[idx]+\" 의 평균\")\n",
    "    plt.xlabel('피처')\n",
    "    plt.ylabel('수치')\n",
    "    plt.bar(x, y)\n",
    "    plt.show()\n",
    "\n",
    "for i in range(8):\n",
    "    compare(i)"
   ]
  },
  {
   "attachments": {},
   "cell_type": "markdown",
   "metadata": {},
   "source": [
    "### 9.일별 강수 형태(precipitation_form) 변화를 나타내는 선형 그래프\n",
    "- plot(선 그래프)을 이용하여 시간 흐름에 따른 강수 형태를 그래프로 시각화\n",
    "- 그래프의 모양, 변동 패턴 등을 살펴봄으로써 강수 형태 데이터의 특성 파악\n",
    "\n",
    "[결론]\n",
    "- 시간의 흐름에 따른 강수 형태를 봤을 때, 뚜렷한 패턴은 보이지 않는다.\n",
    "- 그러나 값이 0인 데이터, 즉 비가 오지 않은 날이 많아 보인다."
   ]
  },
  {
   "cell_type": "code",
   "execution_count": null,
   "metadata": {},
   "outputs": [],
   "source": [
    "plt.figure(figsize=(30,6))\n",
    "\n",
    "a = plt.plot(train['precipitation_form'], color='g')\n",
    "\n",
    "plt.ylabel('precipitation_form')\n",
    "plt.xlabel('Days')\n",
    "plt.show()"
   ]
  },
  {
   "attachments": {},
   "cell_type": "markdown",
   "metadata": {},
   "source": [
    "### 10.연도별 따릉이 대여량(number_of_rentals) 평균 시각화\n",
    "- date_time 변수를 활용하여 연도별 강수 형태의 변동을 살펴봄\n",
    "\n",
    "[결론]\n",
    "- 연도별로 따릉이 대여량이 꾸준히 증가하다."
   ]
  },
  {
   "cell_type": "code",
   "execution_count": null,
   "metadata": {},
   "outputs": [],
   "source": [
    "train['year'] = train['date_time'].apply(lambda x : x.split('-')[0])\n",
    "\n",
    "train.groupby('year').mean()[['number_of_rentals']].plot(figsize=(15,5))\n",
    "plt.show()"
   ]
  },
  {
   "attachments": {},
   "cell_type": "markdown",
   "metadata": {},
   "source": [
    "### 13.파생변수 생성 : 연도(year) : EDA를 통해 얻은 인사이트를 이용해서 결론을 도출해보자.\n",
    "- 강수 변수 : 따릉이 대여량 큰 차이\n",
    "    - 정확한 분석을 위하여 date_time 변수 EDA\n",
    "- date_time 변수 : 연도, 월별\n",
    "    - 뚜렷한 증사 추세\n",
    "- date_time 변수 : 일별\n",
    "    - 뚜렷한 증감세가 없다가, 월말에 급상승"
   ]
  },
  {
   "attachments": {},
   "cell_type": "markdown",
   "metadata": {},
   "source": [
    "### 2. train 데이터프레임에서 data_time 열(column) 제거 및 열 확인\n",
    "문자형 변수는 텍스트 형태의 데이터로 구성되어 있기 때문에, 회귀분석에서 직접 사용하기 어렵다. 이를 사용하기 위해서는 문자형 변수를 수치형으로 변환해야 하는 과정이 필요하다.\n",
    "\n",
    "따라서, 이번 프로젝트에서는 문자형 변수를 제거(drop)하고 수치형 데이터만 사용할 것."
   ]
  },
  {
   "cell_type": "code",
   "execution_count": null,
   "metadata": {},
   "outputs": [],
   "source": [
    "train = train.drop(['date_time'], axis=1)\n",
    "print(train.columns)"
   ]
  },
  {
   "attachments": {},
   "cell_type": "markdown",
   "metadata": {},
   "source": [
    "### 3. test 데이터프레임에서 date_time 열(column) 제거 및 열 확인"
   ]
  },
  {
   "cell_type": "code",
   "execution_count": null,
   "metadata": {},
   "outputs": [],
   "source": [
    "test = test.drop(['date_time'], axis=1)"
   ]
  },
  {
   "attachments": {},
   "cell_type": "markdown",
   "metadata": {},
   "source": [
    "### 4. Feature Selection\n",
    "- X 변수에는 train 데이터프레임에서 column_names 리스트에 해당하는 열들을 선택하여 핟당\n",
    "- y 변수에는 train 데이터프레임에서 number_of_rentals 열 할당"
   ]
  },
  {
   "attachments": {},
   "cell_type": "markdown",
   "metadata": {},
   "source": [
    "### 5. LinearRegression 모델 정의"
   ]
  },
  {
   "cell_type": "code",
   "execution_count": null,
   "metadata": {},
   "outputs": [],
   "source": [
    "from sklearn.linear_model import LinearRegression\n",
    "\n",
    "model = LinearRegression()"
   ]
  },
  {
   "attachments": {},
   "cell_type": "markdown",
   "metadata": {},
   "source": [
    "### 6. LinearRegression 모델 학습"
   ]
  },
  {
   "cell_type": "markdown",
   "metadata": {},
   "source": []
  },
  {
   "cell_type": "code",
   "execution_count": null,
   "metadata": {},
   "outputs": [],
   "source": [
    "model.fit(X, y)"
   ]
  },
  {
   "attachments": {},
   "cell_type": "markdown",
   "metadata": {},
   "source": [
    "### 7. LinearRegression 모델 예측"
   ]
  },
  {
   "cell_type": "code",
   "execution_count": null,
   "metadata": {},
   "outputs": [],
   "source": [
    "predict = model.predict(X, y)\n",
    "print(predict[:10])"
   ]
  },
  {
   "attachments": {},
   "cell_type": "markdown",
   "metadata": {},
   "source": [
    "### 8. 예측된 따릉이 대여량을 submission 파일에 추가하기"
   ]
  },
  {
   "cell_type": "code",
   "execution_count": null,
   "metadata": {},
   "outputs": [],
   "source": [
    "submission['number_of_rentals'] = predict\n",
    "submission.head()"
   ]
  },
  {
   "attachments": {},
   "cell_type": "markdown",
   "metadata": {},
   "source": [
    "### 9. 데이터프레임(DataFrame)을 CSV 파일로 저장하기"
   ]
  },
  {
   "cell_type": "code",
   "execution_count": null,
   "metadata": {},
   "outputs": [],
   "source": [
    "submission.to_csv('submission_csv', index=False)"
   ]
  }
 ],
 "metadata": {
  "language_info": {
   "name": "python"
  },
  "orig_nbformat": 4
 },
 "nbformat": 4,
 "nbformat_minor": 2
}
