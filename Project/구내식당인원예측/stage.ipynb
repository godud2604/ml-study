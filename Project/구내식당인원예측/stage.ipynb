{
 "cells": [
  {
   "attachments": {},
   "cell_type": "markdown",
   "metadata": {},
   "source": [
    "- 일자 : 2020-02-05 와 같이 연-월-일로 구성되어 있습니다.\n",
    "- 요일 : 월, 화, 수, 목, 금\n",
    "- 본사정원수 : 현재 본사에서 근무하는 인원의 수\n",
    "- 본사휴가자수 : 휴가자의 수\n",
    "- 본사출장자수 : 출장을 간 인원의 수\n",
    "- 본사시간외근무명령서승인건수 : 야근을 하는 인원의 수\n",
    "- 현본사소속재택근무자수 : 출근하지 않고 재택 근무 인원의 수\n",
    "- 조식메뉴, 중식메뉴, 석식메뉴 : 각각 슬래시(/) 로 각 메뉴가 구분됨\n",
    "- 중식계(TARGET) : 점심을 먹은 사람의 수\n",
    "- 석식계(TARGET) : 저녁을 먹은 사람의 수"
   ]
  },
  {
   "attachments": {},
   "cell_type": "markdown",
   "metadata": {},
   "source": [
    "## 스테이지 4. EDA & 모델링 (1)\n",
    "- Target(중식계, 석식계)을 중심으로 EDA 수행\n",
    "- 전처리를 통한 피처 생성"
   ]
  },
  {
   "cell_type": "code",
   "execution_count": 2,
   "metadata": {},
   "outputs": [],
   "source": [
    "import pandas as pd"
   ]
  },
  {
   "cell_type": "code",
   "execution_count": null,
   "metadata": {},
   "outputs": [],
   "source": [
    "train = pd.read_csv('train.csv')\n",
    "test = pd.read_csv('test.csv')\n"
   ]
  },
  {
   "cell_type": "code",
   "execution_count": null,
   "metadata": {},
   "outputs": [],
   "source": [
    "train.info()"
   ]
  },
  {
   "attachments": {},
   "cell_type": "markdown",
   "metadata": {},
   "source": [
    "## 인원 정보 시각화\n",
    "<ul>\n",
    "<li><code>본사정원수</code> : 지속적으로 상승 추세를 보입니다.   </li>\n",
    "<li><code>본사휴가자수</code> : 특정 일자를 전후로 휴가자가 급등합니다.  </li>\n",
    "<li><code>본사출장자수</code> : 주기가 일정하지 않으나, 일정한 상승-하락 패턴이 보입니다.  </li>\n",
    "<li><code>본사시간외근무명령서승인건수</code> : 인덱스가 약 700일 때부터 야근하는 사람의 수가 증가하고,<br>이와 동시에 야근이 아예 없는 날(<code>본사시간외근무명령서승인건수</code> = 0)의 수도 증가하는 듯 합니다.  </li>\n",
    "<li><code>현본사소속재택근무자수</code> : 특정일을 기준으로 재택근무자가 증가합니다.</li>\n",
    "</ul>"
   ]
  },
  {
   "cell_type": "code",
   "execution_count": null,
   "metadata": {},
   "outputs": [],
   "source": [
    "# 파이썬 warning 무시\n",
    "import warnings\n",
    "warnings.simplefilter(action='ignore', category=FutureWarning)\n",
    "\n",
    "# 시각화를 위한 라이브러리\n",
    "import matplotlib.pyplot as plt\n",
    "import matplotlib.font_manager as fm\n",
    "\n",
    "# 한글 폰트를 사용하기 위한 코드\n",
    "fe = fm.FontEntry(fname = 'NotoSansKR-Regular.otf', name = 'NotoSansKR')\n",
    "fm.fontManager.ttflist.insert(0, fe)\n",
    "plt.rc('font', family='NotoSansKR')\n",
    "\n",
    "\n",
    "## 인원 정보 시각화 코드\n",
    "train[['본사정원수']].plot(figsize=(15,5))\n",
    "plt.show()\n",
    "\n",
    "train[['본사휴가자수']].plot(figsize=(15,5))\n",
    "plt.show()\n",
    "\n",
    "train[['본사출장자수']].plot(figsize=(15,5))\n",
    "plt.show()\n",
    "\n",
    "train[['본사시간외근무명령서승인건수']].plot(figsize=(15,5))\n",
    "plt.show()\n",
    "\n",
    "train[['현본사소속재택근무자수']].plot(figsize=(15,5))\n",
    "plt.show()"
   ]
  },
  {
   "attachments": {},
   "cell_type": "markdown",
   "metadata": {},
   "source": [
    "- 구내식당 프로젝트 데이터는 일자가 순차적으로 배열된 시계열 데이터 (time series)"
   ]
  },
  {
   "cell_type": "code",
   "execution_count": null,
   "metadata": {},
   "outputs": [],
   "source": [
    "# 일자를 확인해 보니, 2020년 3월부터 재택근무자수가 100명을 넘었다.\n",
    "# => 시기상 코로나19로 인한 재택근무 전환이 원인으로 보임.\n",
    "train[train['현본사소속재택근무자수'] > 100]"
   ]
  },
  {
   "cell_type": "code",
   "execution_count": null,
   "metadata": {},
   "outputs": [],
   "source": [
    "# train & test 데이터에서 문자형 변수 제거\n",
    "\n",
    "train = train.drop(['일자','요일','조식메뉴','중식메뉴','석식메뉴'],axis = 1)\n",
    "test = test.drop(['일자','요일','조식메뉴','중식메뉴','석식메뉴'],axis = 1 ) "
   ]
  },
  {
   "cell_type": "code",
   "execution_count": null,
   "metadata": {},
   "outputs": [],
   "source": [
    "# Feature Selection\n",
    "\n",
    "# 종속변수(중식계) \n",
    "lunch_count = train['중식계']\n",
    "\n",
    "# 종속변수(석식계) \n",
    "dinner_count = train['석식계']\n",
    "\n",
    "# 독립변수\n",
    "X = train.drop(['중식계','석식계'], axis = 1)"
   ]
  },
  {
   "cell_type": "code",
   "execution_count": null,
   "metadata": {},
   "outputs": [],
   "source": [
    "# 중식계 모델 선택\n",
    "\n",
    "from sklearn.tree import DecisionTreeRegressor\n",
    "\n",
    "lunch_model = DecisionTreeRegressor()"
   ]
  },
  {
   "cell_type": "code",
   "execution_count": null,
   "metadata": {},
   "outputs": [],
   "source": [
    "# 중식계 모델 학습\n",
    "\n",
    "lunch_model.fit(X, lunch_count)"
   ]
  },
  {
   "cell_type": "code",
   "execution_count": null,
   "metadata": {},
   "outputs": [],
   "source": [
    "# 중식계 모델 예측\n",
    "\n",
    "lunch_predict = lunch_model.predict(test)\n",
    "lunch_predict[:10]"
   ]
  },
  {
   "cell_type": "code",
   "execution_count": null,
   "metadata": {},
   "outputs": [],
   "source": [
    "# 석식계 모델 선택/학습/예측 실습\n",
    "\n",
    "dinner_model = DecisionTreeRegressor()    \n",
    "dinner_model.fit(X,dinner_count)    \n",
    "dinner_predict = dinner_model.predict(test)"
   ]
  }
 ],
 "metadata": {
  "kernelspec": {
   "display_name": "Python 3",
   "language": "python",
   "name": "python3"
  },
  "language_info": {
   "codemirror_mode": {
    "name": "ipython",
    "version": 3
   },
   "file_extension": ".py",
   "mimetype": "text/x-python",
   "name": "python",
   "nbconvert_exporter": "python",
   "pygments_lexer": "ipython3",
   "version": "3.9.6"
  },
  "orig_nbformat": 4
 },
 "nbformat": 4,
 "nbformat_minor": 2
}
