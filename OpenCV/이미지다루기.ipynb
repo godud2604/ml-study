{
 "cells": [
  {
   "attachments": {},
   "cell_type": "markdown",
   "metadata": {},
   "source": [
    "# 이미지 다루기"
   ]
  },
  {
   "attachments": {},
   "cell_type": "markdown",
   "metadata": {},
   "source": [
    "## Goal\n",
    "- 이미지 파일을 읽고, 보고, 저장하는 방법에 대해서 알아봅니다.\n",
    "- 관련 함수인 cv2.imread(), cv2.imshow(), cv2.imwrite()에 대해서 알아봅니다."
   ]
  },
  {
   "attachments": {},
   "cell_type": "markdown",
   "metadata": {},
   "source": [
    "## 이미지 읽기"
   ]
  },
  {
   "cell_type": "code",
   "execution_count": 2,
   "metadata": {},
   "outputs": [],
   "source": [
    "import cv2"
   ]
  },
  {
   "cell_type": "code",
   "execution_count": 3,
   "metadata": {},
   "outputs": [],
   "source": [
    "img = cv2.imread('image3.png', cv2.IMREAD_COLOR)"
   ]
  },
  {
   "attachments": {},
   "cell_type": "markdown",
   "metadata": {},
   "source": [
    "### cv2.imread(fileName, flag)\n",
    "- 이미지 파일을 flag값에 따라서 읽어들입니다.\n",
    "- => parameters: fileName(이미지 파일의 경로), flag(이미지 파일을 읽을 때의 Option)\n",
    "- => returns : image객체 행렬\n",
    "- => Return type: numpy.ndarray"
   ]
  },
  {
   "attachments": {},
   "cell_type": "markdown",
   "metadata": {},
   "source": [
    "- 이미지 읽기의 flag는 3가지가 있습니다.\n",
    "- => `cv2.IMREAD_COLOR` : 이미지 파일을 Color로 읽어들입니다. 투명한 부분은 무시되며, Default값입니다.\n",
    "- => `cv2.IMREAD_GRAYSCALE` : 이미지를 Grayscale로 읽어 들입니다. 실제 이미지 처리시 중간 단계로 많이 사용됩니다.\n",
    "- => `cv2.IMREAT_UNCHANGED` : 이미지파일을 alpha channel까지 포함하여 읽어들입니다."
   ]
  },
  {
   "cell_type": "code",
   "execution_count": 4,
   "metadata": {},
   "outputs": [
    {
     "data": {
      "text/plain": [
       "array([[[212, 228, 233],\n",
       "        [212, 228, 233],\n",
       "        [212, 228, 233],\n",
       "        ...,\n",
       "        [212, 228, 233],\n",
       "        [212, 228, 233],\n",
       "        [212, 228, 233]],\n",
       "\n",
       "       [[212, 228, 233],\n",
       "        [212, 228, 233],\n",
       "        [212, 228, 233],\n",
       "        ...,\n",
       "        [212, 228, 233],\n",
       "        [212, 228, 233],\n",
       "        [212, 228, 233]],\n",
       "\n",
       "       [[212, 228, 233],\n",
       "        [212, 228, 233],\n",
       "        [212, 228, 233],\n",
       "        ...,\n",
       "        [212, 228, 233],\n",
       "        [212, 228, 233],\n",
       "        [212, 228, 233]],\n",
       "\n",
       "       ...,\n",
       "\n",
       "       [[212, 228, 233],\n",
       "        [212, 228, 233],\n",
       "        [212, 228, 233],\n",
       "        ...,\n",
       "        [212, 228, 233],\n",
       "        [212, 228, 233],\n",
       "        [212, 228, 233]],\n",
       "\n",
       "       [[212, 228, 233],\n",
       "        [212, 228, 233],\n",
       "        [212, 228, 233],\n",
       "        ...,\n",
       "        [212, 228, 233],\n",
       "        [212, 228, 233],\n",
       "        [212, 228, 233]],\n",
       "\n",
       "       [[212, 228, 233],\n",
       "        [212, 228, 233],\n",
       "        [212, 228, 233],\n",
       "        ...,\n",
       "        [212, 228, 233],\n",
       "        [212, 228, 233],\n",
       "        [212, 228, 233]]], dtype=uint8)"
      ]
     },
     "execution_count": 4,
     "metadata": {},
     "output_type": "execute_result"
    }
   ],
   "source": [
    "img"
   ]
  },
  {
   "cell_type": "code",
   "execution_count": 5,
   "metadata": {},
   "outputs": [
    {
     "data": {
      "text/plain": [
       "(1667, 1211, 3)"
      ]
     },
     "execution_count": 5,
     "metadata": {},
     "output_type": "execute_result"
    }
   ],
   "source": [
    "# 이미지는 3차원 행렬로 return 된다.\n",
    "# 1667은 행(Y축), 1211은 열(X축), 3은 행과 열이 만나는 지점의 값이 몇 개의 원소로 이루어져 있는지를 나타낸다.\n",
    "# 이미지의 사이즈는 1667 X 1211\n",
    "# => 3이 의미하는 뜻은, 바로 색을 표현하는 BGR값이다. 일반적으로 RGB로 많이 나타내는데, openCV는 B(lue), G(reen), R(ed)로 표현한다\n",
    "img.shape"
   ]
  },
  {
   "attachments": {},
   "cell_type": "markdown",
   "metadata": {},
   "source": [
    "# 이미지 보기"
   ]
  },
  {
   "cell_type": "code",
   "execution_count": 6,
   "metadata": {},
   "outputs": [
    {
     "ename": "TypeError",
     "evalue": "Can't convert object to 'str' for 'filename'",
     "output_type": "error",
     "traceback": [
      "\u001b[0;31m---------------------------------------------------------------------------\u001b[0m",
      "\u001b[0;31mTypeError\u001b[0m                                 Traceback (most recent call last)",
      "Cell \u001b[0;32mIn[6], line 3\u001b[0m\n\u001b[1;32m      1\u001b[0m fname \u001b[39m=\u001b[39m img\n\u001b[0;32m----> 3\u001b[0m original \u001b[39m=\u001b[39m cv2\u001b[39m.\u001b[39;49mimread(fname, cv2\u001b[39m.\u001b[39;49mIMREAD_COLOR)\n\u001b[1;32m      4\u001b[0m gray \u001b[39m=\u001b[39m cv2\u001b[39m.\u001b[39mimread(fname, cv2\u001b[39m.\u001b[39mIMREAD_GRAYSCALE)\n\u001b[1;32m      5\u001b[0m unchange \u001b[39m=\u001b[39m cv2\u001b[39m.\u001b[39mimread(fname, cv2\u001b[39m.\u001b[39mIMREAD_UNCHANGED)\n",
      "\u001b[0;31mTypeError\u001b[0m: Can't convert object to 'str' for 'filename'"
     ]
    }
   ],
   "source": [
    "# fname = img\n",
    "\n",
    "# original = cv2.imread(fname, cv2.IMREAD_COLOR)\n",
    "# gray = cv2.imread(fname, cv2.IMREAD_GRAYSCALE)\n",
    "# unchange = cv2.imread(fname, cv2.IMREAD_UNCHANGED)\n",
    "\n",
    "# cv2.imshow('Original', original)\n",
    "# cv2.imshow('Gray', gray)\n",
    "# cv2.imshow('Unchange', unchange)\n",
    "\n",
    "# cv2.waitKey(0)\n",
    "# cv2.destroyAllWindows()"
   ]
  },
  {
   "attachments": {},
   "cell_type": "markdown",
   "metadata": {},
   "source": [
    "# 이미지 저장하기"
   ]
  },
  {
   "cell_type": "code",
   "execution_count": 10,
   "metadata": {},
   "outputs": [
    {
     "data": {
      "text/plain": [
       "True"
      ]
     },
     "execution_count": 10,
     "metadata": {},
     "output_type": "execute_result"
    }
   ],
   "source": [
    "fname = 'image3.png'\n",
    "gray = cv2.imread(fname, cv2.IMREAD_GRAYSCALE)\n",
    "\n",
    "cv2.imwrite('test.png', gray)"
   ]
  },
  {
   "attachments": {},
   "cell_type": "markdown",
   "metadata": {},
   "source": [
    "# Matplotlib 사용하기\n",
    "- Matplotlib는 다양한 plot기능을 가진 Python Plot Library이다. 이미지를 Zoom 하거나 하나의 화면에 여러 개의 이미지를 보고자 할 때 유용하다."
   ]
  },
  {
   "cell_type": "code",
   "execution_count": 15,
   "metadata": {},
   "outputs": [
    {
     "data": {
      "image/png": "[encoded data removed]",
      "text/plain": [
       "<Figure size 640x480 with 1 Axes>"
      ]
     },
     "metadata": {},
     "output_type": "display_data"
    },
    {
     "data": {
      "text/plain": [
       "'\\n=> 결과값이 이상하다. 원본은 파란색 계열인데, 결과는 붉은색 계열로 나타남.\\n=> 이유는 openCV는 BGR로 사용하지만, Matplotlib는 RGB로 이미지를 보여주기 때문이다.\\n=> 즉, 결과 값은 3차원 배열의 값중 첫번째와 세번째 배열값을 서로 바꿔주어야 한다.\\n'"
      ]
     },
     "execution_count": 15,
     "metadata": {},
     "output_type": "execute_result"
    }
   ],
   "source": [
    "#-*- coding:utf-8 -*-\n",
    "import cv2\n",
    "from matplotlib import pyplot as plt # as는 alias 적용시 사용\n",
    "\n",
    "img = cv2.imread('image3.png', cv2.IMREAD_COLOR)\n",
    "\n",
    "plt.imshow(img)\n",
    "plt.xticks([]) # x축 눈금\n",
    "plt.yticks([]) # y축 눈금\n",
    "plt.show()\n",
    "\n",
    "\"\"\"\n",
    "=> 결과값이 이상하다. 원본은 파란색 계열인데, 결과는 붉은색 계열로 나타남.\n",
    "=> 이유는 openCV는 BGR로 사용하지만, Matplotlib는 RGB로 이미지를 보여주기 때문이다.\n",
    "=> 즉, 결과 값은 3차원 배열의 값중 첫번째와 세번째 배열값을 서로 바꿔주어야 한다.\n",
    "\"\"\""
   ]
  },
  {
   "attachments": {},
   "cell_type": "markdown",
   "metadata": {},
   "source": [
    "# RGB 값으로 변경한 결과 "
   ]
  },
  {
   "cell_type": "code",
   "execution_count": 14,
   "metadata": {},
   "outputs": [
    {
     "data": {
      "image/png": "[encoded data removed]",
      "text/plain": [
       "<Figure size 640x480 with 1 Axes>"
      ]
     },
     "metadata": {},
     "output_type": "display_data"
    }
   ],
   "source": [
    "#-*- coding:utf-8 -*-\n",
    "import cv2\n",
    "from matplotlib import pyplot as plt # as는 alias 적용시 사용\n",
    "\n",
    "img = cv2.imread('image3.png', cv2.IMREAD_COLOR)\n",
    "\n",
    "b, g, r = cv2.split(img)   # img파일을 b,g,r로 분리\n",
    "img2 = cv2.merge([r,g,b]) # b, r을 바꿔서 Merge\n",
    "\n",
    "plt.imshow(img2)\n",
    "plt.xticks([]) # x축 눈금\n",
    "plt.yticks([]) # y축 눈금\n",
    "plt.show()"
   ]
  },
  {
   "cell_type": "code",
   "execution_count": null,
   "metadata": {},
   "outputs": [],
   "source": []
  }
 ],
 "metadata": {
  "kernelspec": {
   "display_name": "Python 3",
   "language": "python",
   "name": "python3"
  },
  "language_info": {
   "codemirror_mode": {
    "name": "ipython",
    "version": 3
   },
   "file_extension": ".py",
   "mimetype": "text/x-python",
   "name": "python",
   "nbconvert_exporter": "python",
   "pygments_lexer": "ipython3",
   "version": "3.9.6"
  },
  "orig_nbformat": 4
 },
 "nbformat": 4,
 "nbformat_minor": 2
}
